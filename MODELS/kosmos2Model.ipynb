{
 "cells": [
  {
   "cell_type": "code",
   "execution_count": 1,
   "metadata": {},
   "outputs": [
    {
     "name": "stderr",
     "output_type": "stream",
     "text": [
      "d:\\BLIP\\myenv\\Lib\\site-packages\\tqdm\\auto.py:21: TqdmWarning: IProgress not found. Please update jupyter and ipywidgets. See https://ipywidgets.readthedocs.io/en/stable/user_install.html\n",
      "  from .autonotebook import tqdm as notebook_tqdm\n"
     ]
    }
   ],
   "source": [
    "from PIL import Image\n",
    "import requests\n",
    "from transformers import AutoProcessor, Kosmos2ForConditionalGeneration"
   ]
  },
  {
   "cell_type": "code",
   "execution_count": 2,
   "metadata": {},
   "outputs": [],
   "source": [
    "# Load the model and processor\n",
    "model = Kosmos2ForConditionalGeneration.from_pretrained(\"microsoft/kosmos-2-patch14-224\")\n",
    "processor = AutoProcessor.from_pretrained(\"microsoft/kosmos-2-patch14-224\")"
   ]
  },
  {
   "cell_type": "code",
   "execution_count": 15,
   "metadata": {},
   "outputs": [
    {
     "name": "stdout",
     "output_type": "stream",
     "text": [
      "Generated Caption: An image of Quang Anh ryder, a white man with short blonde hair, playing a guitar and singing into a microphone.\n",
      "Inference Time: 11.90 seconds\n",
      "Number of parameters: 1664485376\n"
     ]
    }
   ],
   "source": [
    "from PIL import Image\n",
    "import time\n",
    "\n",
    "# Load image\n",
    "image_path = \"download (1).jpg\"  # Replace this with your image file path\n",
    "image = Image.open(image_path)\n",
    "\n",
    "# Define the prompt to describe objects in the image without referring to specific names\n",
    "prompt = \"<grounding> An image of Quang Anh ryder\"\n",
    "\n",
    "# Preprocess the input\n",
    "inputs = processor(text=prompt, images=image, return_tensors=\"pt\")\n",
    "\n",
    "# Start measuring inference time\n",
    "start_time = time.time()\n",
    "\n",
    "# Generate caption\n",
    "generated_ids = model.generate(\n",
    "    pixel_values=inputs[\"pixel_values\"],\n",
    "    input_ids=inputs[\"input_ids\"],\n",
    "    attention_mask=inputs[\"attention_mask\"],\n",
    "    image_embeds=None,\n",
    "    image_embeds_position_mask=inputs[\"image_embeds_position_mask\"],\n",
    "    use_cache=True,\n",
    "    max_new_tokens=64,\n",
    ")\n",
    "\n",
    "# Measure inference time\n",
    "inference_time = time.time() - start_time\n",
    "\n",
    "# Decode the generated text\n",
    "generated_text = processor.batch_decode(generated_ids, skip_special_tokens=True)[0]\n",
    "\n",
    "# Post-process the generated text\n",
    "caption, entities = processor.post_process_generation(generated_text)\n",
    "\n",
    "print(\"Generated Caption:\", caption)\n",
    "\n",
    "# Print inference time\n",
    "print(f\"Inference Time: {inference_time:.2f} seconds\")\n",
    "\n",
    "# Number of parameters\n",
    "model_parameters = sum(p.numel() for p in model.parameters() if p.requires_grad)\n",
    "print(f\"Number of parameters: {model_parameters}\")\n"
   ]
  }
 ],
 "metadata": {
  "kernelspec": {
   "display_name": "myenv",
   "language": "python",
   "name": "python3"
  },
  "language_info": {
   "codemirror_mode": {
    "name": "ipython",
    "version": 3
   },
   "file_extension": ".py",
   "mimetype": "text/x-python",
   "name": "python",
   "nbconvert_exporter": "python",
   "pygments_lexer": "ipython3",
   "version": "3.12.4"
  }
 },
 "nbformat": 4,
 "nbformat_minor": 2
}
